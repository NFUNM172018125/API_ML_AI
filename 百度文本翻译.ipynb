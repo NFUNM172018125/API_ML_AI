{
 "cells": [
  {
   "cell_type": "code",
   "execution_count": 6,
   "metadata": {},
   "outputs": [
    {
     "name": "stdout",
     "output_type": "stream",
     "text": [
      "{'from': 'en', 'to': 'zh', 'trans_result': [{'src': 'The terrible earthquake and the following tsunami,have caused so many deaths.', 'dst': '可怕的地震和随之而来的海啸，造成了这么多人死亡。'}]}\n"
     ]
    }
   ],
   "source": [
    "import requests\n",
    "import json\n",
    "import hashlib\n",
    "def md5_sign(s):\n",
    "    return hashlib.md5(s.encode('utf8')).hexdigest()\n",
    "def baidu_fanyi(q):\n",
    "    url = \"https://fanyi-api.baidu.com/api/trans/vip/translate\"\n",
    "    f = 'en'\n",
    "    to = 'zh'\n",
    "    appid = '20191225000369582'   # 申请为翻译开发者会有自己的id\n",
    "    salt = '1435660288'\n",
    "    key = 'mEOewjEpEqzjvYMbNWOj'  # 申请为翻译开发者会有自己的key\n",
    "    finial_str = '%s%s%s%s' % (appid, q, salt, key)\n",
    "    sign = md5_sign(finial_str)\n",
    "    params = {\n",
    "        'q': q,\n",
    "        'from': f,\n",
    "        'to': to,\n",
    "        'appid': appid,\n",
    "        'salt': salt,\n",
    "        'sign': sign,\n",
    "    }\n",
    "    res_json = requests.get(url, params=params).json()\n",
    "    res = res_json\n",
    "    print(res)\n",
    "if __name__ == '__main__':\n",
    "    baidu_fanyi('The terrible earthquake and the following tsunami,have caused so many deaths.')"
   ]
  },
  {
   "cell_type": "code",
   "execution_count": null,
   "metadata": {},
   "outputs": [],
   "source": []
  }
 ],
 "metadata": {
  "kernelspec": {
   "display_name": "Python 3",
   "language": "python",
   "name": "python3"
  },
  "language_info": {
   "codemirror_mode": {
    "name": "ipython",
    "version": 3
   },
   "file_extension": ".py",
   "mimetype": "text/x-python",
   "name": "python",
   "nbconvert_exporter": "python",
   "pygments_lexer": "ipython3",
   "version": "3.7.3"
  }
 },
 "nbformat": 4,
 "nbformat_minor": 2
}
