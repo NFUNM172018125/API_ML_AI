{
 "cells": [
  {
   "cell_type": "code",
   "execution_count": 11,
   "metadata": {},
   "outputs": [
    {
     "name": "stdout",
     "output_type": "stream",
     "text": [
      "b'{\"tSpeakUrl\":\"http://openapi.youdao.com/ttsapi?q=%E5%8F%AF%E6%80%95%E7%9A%84%E5%9C%B0%E9%9C%87%E5%92%8C%E9%9A%8F%E4%B9%8B%E8%80%8C%E6%9D%A5%E7%9A%84%E6%B5%B7%E5%95%B8%EF%BC%8C%E5%B7%B2%E7%BB%8F%E9%80%A0%E6%88%90%E4%BA%86%E5%A6%82%E6%AD%A4%E5%A4%9A%E7%9A%84%E6%AD%BB%E4%BA%A1%E3%80%82&langType=zh-CHS&sign=D9CB29C1385C7D595B84B704AF0C97D8&salt=1578588874363&voice=4&format=mp3&appKey=210e656c8b380bc3\",\"query\":\"The terrible earthquake and the following tsunami,have caused so many deaths.\",\"translation\":[\"\\xe5\\x8f\\xaf\\xe6\\x80\\x95\\xe7\\x9a\\x84\\xe5\\x9c\\xb0\\xe9\\x9c\\x87\\xe5\\x92\\x8c\\xe9\\x9a\\x8f\\xe4\\xb9\\x8b\\xe8\\x80\\x8c\\xe6\\x9d\\xa5\\xe7\\x9a\\x84\\xe6\\xb5\\xb7\\xe5\\x95\\xb8\\xef\\xbc\\x8c\\xe5\\xb7\\xb2\\xe7\\xbb\\x8f\\xe9\\x80\\xa0\\xe6\\x88\\x90\\xe4\\xba\\x86\\xe5\\xa6\\x82\\xe6\\xad\\xa4\\xe5\\xa4\\x9a\\xe7\\x9a\\x84\\xe6\\xad\\xbb\\xe4\\xba\\xa1\\xe3\\x80\\x82\"],\"errorCode\":\"0\",\"dict\":{\"url\":\"yddict://m.youdao.com/dict?le=eng&q=The+terrible+earthquake+and+the+following+tsunami%2Chave+caused+so+many+deaths.\"},\"webdict\":{\"url\":\"http://m.youdao.com/dict?le=eng&q=The+terrible+earthquake+and+the+following+tsunami%2Chave+caused+so+many+deaths.\"},\"l\":\"en2zh-CHS\",\"speakUrl\":\"http://openapi.youdao.com/ttsapi?q=The+terrible+earthquake+and+the+following+tsunami%2Chave+caused+so+many+deaths.&langType=en&sign=8AB5B0C7697B3319C8427FB540DFA878&salt=1578588874363&voice=4&format=mp3&appKey=210e656c8b380bc3\"}'\n"
     ]
    }
   ],
   "source": [
    "import sys\n",
    "import uuid\n",
    "import requests\n",
    "import base64\n",
    "import hashlib\n",
    "\n",
    "from imp import reload\n",
    "reload(sys)\n",
    "\n",
    "YOUDAO_URL = 'https://openapi.youdao.com/api'\n",
    "APP_KEY = '210e656c8b380bc3'\n",
    "APP_SECRET = 'Opar2beSTERMGrhCroicJp4CWnVXc4Xv'\n",
    "\n",
    "def encrypt(signStr):\n",
    "    hash_algorithm = hashlib.sha256()\n",
    "    hash_algorithm.update(signStr.encode('utf-8'))\n",
    "    return hash_algorithm.hexdigest()\n",
    "\n",
    "def truncate(q):\n",
    "    if q is None:\n",
    "        return None\n",
    "    size = len(q)\n",
    "    return q if size <= 20 else q[0:10] + str(size) + q[size - 10:size]\n",
    "\n",
    "def do_request(data):\n",
    "    headers = {'Content-Type': 'application/x-www-form-urlencoded'}\n",
    "    return requests.post(YOUDAO_URL, data=data, headers=headers)\n",
    "\n",
    "def connect():\n",
    "    q = \"The terrible earthquake and the following tsunami,have caused so many deaths.\"\n",
    "    \n",
    "\n",
    "    data = {}\n",
    "    data['from'] = 'en'\n",
    "    data['to'] = 'zh-CHS'\n",
    "    data['signType'] = 'v3'\n",
    "    curtime = str(int(time.time()))\n",
    "    data['curtime'] = curtime\n",
    "    salt = str(uuid.uuid1())\n",
    "    signStr = APP_KEY + truncate(q) + salt + curtime + APP_SECRET\n",
    "    sign = encrypt(signStr)\n",
    "    data['appKey'] = APP_KEY\n",
    "    data['q'] = q\n",
    "    data['salt'] = salt\n",
    "    data['sign'] = sign\n",
    "\n",
    "    response = do_request(data)\n",
    "    contentType = response.headers['Content-Type']\n",
    "    print(response.content)\n",
    "\n",
    "\n",
    "if __name__ == '__main__':\n",
    "    connect()"
   ]
  },
  {
   "cell_type": "code",
   "execution_count": null,
   "metadata": {},
   "outputs": [],
   "source": []
  }
 ],
 "metadata": {
  "kernelspec": {
   "display_name": "Python 3",
   "language": "python",
   "name": "python3"
  },
  "language_info": {
   "codemirror_mode": {
    "name": "ipython",
    "version": 3
   },
   "file_extension": ".py",
   "mimetype": "text/x-python",
   "name": "python",
   "nbconvert_exporter": "python",
   "pygments_lexer": "ipython3",
   "version": "3.7.3"
  }
 },
 "nbformat": 4,
 "nbformat_minor": 2
}
